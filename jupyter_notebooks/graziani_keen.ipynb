{
 "cells": [
  {
   "cell_type": "markdown",
   "metadata": {},
   "source": [
    "# Mathematically modelling Graziani’s circuit according to Steve Keen"
   ]
  },
  {
   "cell_type": "code",
   "execution_count": 2,
   "metadata": {
    "scrolled": false
   },
   "outputs": [
    {
     "data": {
      "image/png": "[encoded data removed]",
      "text/plain": [
       "<Figure size 432x288 with 1 Axes>"
      ]
     },
     "metadata": {},
     "output_type": "display_data"
    },
    {
     "name": "stdout",
     "output_type": "stream",
     "text": [
      "During year 10, in $M:\n",
      "lend = 14.286\n",
      "repay = 14.286\n",
      "cons_w = 239.215\n",
      "cons_b = 5.000\n",
      "interests = 5.000\n",
      "wages = 239.208\n",
      "increase in bank = 0.000\n",
      "increase in firms = 0.007\n",
      "increase in workers = -0.007\n",
      "increase in loans = 0.000\n",
      "\n",
      "Alain's GDP for year 10:\n",
      "GDP = 244.215\n",
      "Costs = 244.208\n",
      "Net profits = 0.007\n",
      "Net profits, share of GDP = 0.00274%\n",
      "Wages, share of GDP = 97.95%\n",
      "Interests, share of GDP = 2.05%\n",
      "\n",
      "Steve's GDP for year 10:\n",
      "GDP = 341.726\n",
      "Costs = 244.208\n",
      "Net profits = 97.518\n",
      "Net profits, share of GDP = 28.53684%\n",
      "Wages, share of GDP = 70.00%\n",
      "Interests, share of GDP = 1.46%\n"
     ]
    }
   ],
   "source": [
    "from scipy.integrate import solve_ivp\n",
    "import matplotlib.pyplot as plt\n",
    "\n",
    "def economy_derivative(t, economy):\n",
    "    lend = economy[0]\n",
    "    repay = economy[1]\n",
    "    cons_w = economy[2]\n",
    "    cons_b = economy[3]\n",
    "    interests = economy[4]\n",
    "    wages = economy[5]\n",
    "    bank = economy[6]\n",
    "    firms = economy[7]\n",
    "    workers = economy[8]\n",
    "    loans = economy[9]\n",
    "    steve_gdp = economy[10]\n",
    "\n",
    "    tau_t = 0.25\n",
    "    lend_r = 1 / 7\n",
    "    repay_r = 1 / 7\n",
    "    cons_w_r = 1 / 0.04\n",
    "    cons_b_r = 1.0\n",
    "    wages_r = (1 - 0.3) / tau_t\n",
    "    r_l = 0.05\n",
    "    \n",
    "    d_lend = loans * lend_r\n",
    "    d_repay = loans * repay_r\n",
    "    d_cons_w = workers * cons_w_r\n",
    "    d_cons_b = bank * cons_b_r\n",
    "    d_interests = loans * r_l\n",
    "    d_wages = firms * wages_r\n",
    "    d_steve_gdp = firms / tau_t\n",
    "    \n",
    "    d_bank = d_interests - d_cons_b\n",
    "    d_firms = d_lend + d_cons_w + d_cons_b - (d_wages + d_interests + d_repay)\n",
    "    d_workers = d_wages - d_cons_w\n",
    "    d_loans = d_lend - d_repay\n",
    "    \n",
    "    return [d_lend, d_repay, d_cons_w, d_cons_b, d_interests, d_wages, d_bank, d_firms, d_workers, d_loans, d_steve_gdp]\n",
    "\n",
    "economy0 = [0.0, 0.0, 0.0, 0.0, 0.0, 0.0, 5.0, 80.0, 15.0, 100.0, 0.0]\n",
    "\n",
    "sol = solve_ivp(economy_derivative, [0, 10], economy0, max_step = 1.0, dense_output=True)\n",
    "\n",
    "plt.title('economy equities and liabilities')\n",
    "plt.plot(sol.t, sol.y[6], label='bank')\n",
    "plt.plot(sol.t, sol.y[7], label='firm deposits')\n",
    "plt.plot(sol.t, sol.y[8], label='worker deposits')\n",
    "plt.ylabel('value ($M)')\n",
    "plt.xlabel('time (years)')\n",
    "plt.legend()\n",
    "plt.grid(True)\n",
    "plt.show()\n",
    "plt.close()\n",
    "\n",
    "economy = sol.sol(10)\n",
    "\n",
    "income = economy - sol.sol(9)\n",
    "\n",
    "print('During year 10, in $M:')\n",
    "print('lend = %.3f' % income[0])\n",
    "print('repay = %.3f' % income[1])\n",
    "print('cons_w = %.3f' % income[2])\n",
    "print('cons_b = %.3f' % income[3])\n",
    "print('interests = %.3f' % income[4])\n",
    "print('wages = %.3f' % income[5])\n",
    "print('increase in bank = %.3f' % income[6])\n",
    "print('increase in firms = %.3f' % income[7])\n",
    "print('increase in workers = %.3f' % income[8])\n",
    "print('increase in loans = %.3f' % income[9])\n",
    "print()\n",
    "\n",
    "print('Alain\\'s GDP for year 10:')\n",
    "gdp = income[2] + income[3]\n",
    "print('GDP = %.3f' % gdp)\n",
    "costs = income[4] + income[5]\n",
    "print('Costs = %.3f' % costs)\n",
    "net_profits = gdp - costs\n",
    "print('Net profits = %.3f' % net_profits)\n",
    "print('Net profits, share of GDP = %.5f%%' % (100 * net_profits / gdp))\n",
    "print('Wages, share of GDP = %.2f%%' % (100 * income[5] / gdp))\n",
    "print('Interests, share of GDP = %.2f%%' % (100 * income[4] / gdp))\n",
    "print()\n",
    "\n",
    "print('Steve\\'s GDP for year 10:')\n",
    "gdp = income[10]\n",
    "print('GDP = %.3f' % gdp)\n",
    "costs = income[4] + income[5]\n",
    "print('Costs = %.3f' % costs)\n",
    "net_profits = gdp - costs\n",
    "print('Net profits = %.3f' % net_profits)\n",
    "print('Net profits, share of GDP = %.5f%%' % (100 * net_profits / gdp))\n",
    "print('Wages, share of GDP = %.2f%%' % (100 * income[5] / gdp))\n",
    "print('Interests, share of GDP = %.2f%%' % (100 * income[4] / gdp))\n"
   ]
  }
 ],
 "metadata": {
  "kernelspec": {
   "display_name": "Python 3",
   "language": "python",
   "name": "python3"
  },
  "language_info": {
   "codemirror_mode": {
    "name": "ipython",
    "version": 3
   },
   "file_extension": ".py",
   "mimetype": "text/x-python",
   "name": "python",
   "nbconvert_exporter": "python",
   "pygments_lexer": "ipython3",
   "version": "3.6.6"
  }
 },
 "nbformat": 4,
 "nbformat_minor": 2
}
